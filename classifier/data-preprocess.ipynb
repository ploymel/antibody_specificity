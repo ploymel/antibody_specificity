{
 "cells": [
  {
   "cell_type": "markdown",
   "metadata": {},
   "source": [
    "# Multi label Text Classification Snippet Specificity using BERT"
   ]
  },
  {
   "cell_type": "markdown",
   "metadata": {},
   "source": [
    "## Data Processing"
   ]
  },
  {
   "cell_type": "code",
   "execution_count": 1,
   "metadata": {},
   "outputs": [],
   "source": [
    "import pandas as pd"
   ]
  },
  {
   "cell_type": "code",
   "execution_count": 2,
   "metadata": {},
   "outputs": [],
   "source": [
    "dataset = pd.read_excel('3192antibody.xlsx')"
   ]
  },
  {
   "cell_type": "code",
   "execution_count": 3,
   "metadata": {},
   "outputs": [
    {
     "data": {
      "text/html": [
       "<div>\n",
       "<style scoped>\n",
       "    .dataframe tbody tr th:only-of-type {\n",
       "        vertical-align: middle;\n",
       "    }\n",
       "\n",
       "    .dataframe tbody tr th {\n",
       "        vertical-align: top;\n",
       "    }\n",
       "\n",
       "    .dataframe thead th {\n",
       "        text-align: right;\n",
       "    }\n",
       "</style>\n",
       "<table border=\"1\" class=\"dataframe\">\n",
       "  <thead>\n",
       "    <tr style=\"text-align: right;\">\n",
       "      <th></th>\n",
       "      <th>Row ID</th>\n",
       "      <th>Antibody?</th>\n",
       "      <th>Specificity?</th>\n",
       "      <th>PMID</th>\n",
       "      <th>PMCID</th>\n",
       "      <th>SNIPPET</th>\n",
       "    </tr>\n",
       "  </thead>\n",
       "  <tbody>\n",
       "    <tr>\n",
       "      <td>0</td>\n",
       "      <td>2635</td>\n",
       "      <td>anti-V5 (RRID:AB_307024), anti-flag (RRID:AB_...</td>\n",
       "      <td>Rabbit Anti-Mouse IgG- positive</td>\n",
       "      <td>27725089</td>\n",
       "      <td>PMC5059142</td>\n",
       "      <td>Input lysates and pulldown eluates were analyz...</td>\n",
       "    </tr>\n",
       "    <tr>\n",
       "      <td>1</td>\n",
       "      <td>1744</td>\n",
       "      <td>\"specific antibodies</td>\n",
       "      <td>(positive) \"snippet isnt en/augh to kn/aw what</td>\n",
       "      <td>27506200</td>\n",
       "      <td>PMC4977824</td>\n",
       "      <td>ATAD-3 is an evolutionarily conserved AAA-fami...</td>\n",
       "    </tr>\n",
       "    <tr>\n",
       "      <td>2</td>\n",
       "      <td>38</td>\n",
       "      <td>Cy3-conjugated mouse monoclonal antibody speci...</td>\n",
       "      <td>(positive) claim</td>\n",
       "      <td>23468629</td>\n",
       "      <td>PMC3585132</td>\n",
       "      <td>For ookinete conversion assays, blood was take...</td>\n",
       "    </tr>\n",
       "    <tr>\n",
       "      <td>3</td>\n",
       "      <td>54</td>\n",
       "      <td>this antibody</td>\n",
       "      <td>(positive) claim</td>\n",
       "      <td>24251095</td>\n",
       "      <td>PMC3821019</td>\n",
       "      <td>Rat monoclonal antibody against hKIAA1199 was ...</td>\n",
       "    </tr>\n",
       "    <tr>\n",
       "      <td>4</td>\n",
       "      <td>55</td>\n",
       "      <td>the antibodies specific to KIAA1199, CHC, &amp;#94...</td>\n",
       "      <td>(positive) claim</td>\n",
       "      <td>24251095</td>\n",
       "      <td>PMC3821019</td>\n",
       "      <td>Cell homogenate supernatants were separated by...</td>\n",
       "    </tr>\n",
       "  </tbody>\n",
       "</table>\n",
       "</div>"
      ],
      "text/plain": [
       "   Row ID                                          Antibody?  \\\n",
       "0    2635   anti-V5 (RRID:AB_307024), anti-flag (RRID:AB_...   \n",
       "1    1744                               \"specific antibodies   \n",
       "2      38  Cy3-conjugated mouse monoclonal antibody speci...   \n",
       "3      54                                     this antibody    \n",
       "4      55  the antibodies specific to KIAA1199, CHC, &#94...   \n",
       "\n",
       "                                      Specificity?      PMID       PMCID  \\\n",
       "0                  Rabbit Anti-Mouse IgG- positive  27725089  PMC5059142   \n",
       "1  (positive) \"snippet isnt en/augh to kn/aw what   27506200  PMC4977824   \n",
       "2                                 (positive) claim  23468629  PMC3585132   \n",
       "3                                 (positive) claim  24251095  PMC3821019   \n",
       "4                                 (positive) claim  24251095  PMC3821019   \n",
       "\n",
       "                                             SNIPPET  \n",
       "0  Input lysates and pulldown eluates were analyz...  \n",
       "1  ATAD-3 is an evolutionarily conserved AAA-fami...  \n",
       "2  For ookinete conversion assays, blood was take...  \n",
       "3  Rat monoclonal antibody against hKIAA1199 was ...  \n",
       "4  Cell homogenate supernatants were separated by...  "
      ]
     },
     "execution_count": 3,
     "metadata": {},
     "output_type": "execute_result"
    }
   ],
   "source": [
    "dataset.head()"
   ]
  },
  {
   "cell_type": "markdown",
   "metadata": {},
   "source": [
    "### Remove redundant information"
   ]
  },
  {
   "cell_type": "code",
   "execution_count": 4,
   "metadata": {},
   "outputs": [],
   "source": [
    "dataset.drop('Antibody?',axis=1,inplace=True)\n",
    "dataset.drop('PMID',axis=1, inplace=True)\n",
    "dataset.drop('PMCID',axis=1,inplace=True)"
   ]
  },
  {
   "cell_type": "markdown",
   "metadata": {},
   "source": [
    "### How many specificity class right now?"
   ]
  },
  {
   "cell_type": "code",
   "execution_count": 5,
   "metadata": {},
   "outputs": [],
   "source": [
    "import matplotlib.pyplot as plt"
   ]
  },
  {
   "cell_type": "code",
   "execution_count": 6,
   "metadata": {},
   "outputs": [],
   "source": [
    "specificity_cases = dict()\n",
    "count_record = 0"
   ]
  },
  {
   "cell_type": "code",
   "execution_count": 7,
   "metadata": {},
   "outputs": [],
   "source": [
    "for value in dataset['Specificity?']:\n",
    "    if pd.isna(value) == False:\n",
    "        v = value.strip('\\n')\n",
    "        v = v.strip()\n",
    "        specificity_cases[v] = specificity_cases.get(v, 0) + 1\n",
    "        count_record += 1"
   ]
  },
  {
   "cell_type": "code",
   "execution_count": 8,
   "metadata": {},
   "outputs": [
    {
     "data": {
      "text/plain": [
       "{'Rabbit Anti-Mouse IgG- positive': 1,\n",
       " '(positive) \"snippet isnt en/augh to kn/aw what': 1,\n",
       " '(positive) claim': 3,\n",
       " '2 positive, 2 claim positive': 1,\n",
       " 'antibody pennetration method': 1,\n",
       " 'claim': 19,\n",
       " 'claim (positive)': 2,\n",
       " 'Claim +ve': 3,\n",
       " 'claim positive': 217,\n",
       " 'Claim positive': 2,\n",
       " 'claim positive, claim nonspecific': 1,\n",
       " 'claim positive, claim nonspecific, claim positive': 1,\n",
       " 'claim positive, N/A': 1,\n",
       " 'claim positive, n/anspecific': 2,\n",
       " 'claim positive, nonspecific, positive(3)': 1,\n",
       " 'claim positive, positive.': 2,\n",
       " 'Claim positive(2), nonspecific (2)': 1,\n",
       " 'claim postive': 2,\n",
       " 'claim, positive': 1,\n",
       " 'Clzim positive': 1,\n",
       " 'N/A': 3,\n",
       " 'N/A, Claim positive(2)': 1,\n",
       " 'N/A, negative': 2,\n",
       " 'N/A, positive': 3,\n",
       " 'N/A?': 2,\n",
       " 'N/A(2), claim positive(2)': 1,\n",
       " 'n/anspecfic': 1,\n",
       " 'n/anspecific': 11,\n",
       " 'n/anspecific (2)  positive': 2,\n",
       " 'n/anspecific, rest are claim positive': 1,\n",
       " 'n/at sure': 10,\n",
       " 'na': 12,\n",
       " 'negative': 96,\n",
       " 'negative, N/A': 1,\n",
       " 'negative, neutral': 1,\n",
       " 'netural': 1,\n",
       " 'netural ??': 1,\n",
       " 'neutral': 239,\n",
       " 'neutral(2) claim positive': 1,\n",
       " 'nonspecific': 44,\n",
       " 'Nonspecific': 1,\n",
       " 'nonspecific, positive': 1,\n",
       " 'nonspecific,negative': 1,\n",
       " 'nonspecific,posittive': 1,\n",
       " 'not sure': 2,\n",
       " 'p': 1,\n",
       " 'positive': 1548,\n",
       " 'Positive': 1,\n",
       " 'positive (2) N/A': 2,\n",
       " 'positive (2) neutral': 1,\n",
       " 'positive and n/anspecific': 1,\n",
       " 'positive and negative': 4,\n",
       " 'positive and negative?': 1,\n",
       " 'positive,': 1,\n",
       " 'positive, claim': 51,\n",
       " 'positive, claim positive': 2,\n",
       " 'positive, N/A': 2,\n",
       " 'positive, neutral': 1,\n",
       " 'positive, nonspecific': 4,\n",
       " 'positive,claim positive(2)': 2,\n",
       " 'positive?': 5,\n",
       " 'positive(2) nonspecific': 1,\n",
       " 'positve': 12,\n",
       " 'postiive': 2,\n",
       " 'postitive': 6,\n",
       " 'postive': 3,\n",
       " 'slightly positive': 1,\n",
       " 'specific n/at sensitive': 2,\n",
       " 'to be determined': 1,\n",
       " 'unspecific': 1,\n",
       " 'unsure': 69,\n",
       " 'unsure (positive and negative)': 1,\n",
       " 'unsure (snippet n/at en/augh need more)': 1,\n",
       " 'unsure, positive': 1,\n",
       " 'unsure?': 1}"
      ]
     },
     "execution_count": 8,
     "metadata": {},
     "output_type": "execute_result"
    }
   ],
   "source": [
    "specificity_cases"
   ]
  },
  {
   "cell_type": "code",
   "execution_count": 9,
   "metadata": {},
   "outputs": [
    {
     "data": {
      "text/plain": [
       "2431"
      ]
     },
     "execution_count": 9,
     "metadata": {},
     "output_type": "execute_result"
    }
   ],
   "source": [
    "count_record"
   ]
  },
  {
   "cell_type": "markdown",
   "metadata": {},
   "source": [
    "Try redunce these cases into 5 labels classes"
   ]
  },
  {
   "cell_type": "code",
   "execution_count": 10,
   "metadata": {},
   "outputs": [],
   "source": [
    "fivecases = dict()"
   ]
  },
  {
   "cell_type": "code",
   "execution_count": 11,
   "metadata": {},
   "outputs": [],
   "source": [
    "for key in specificity_cases:\n",
    "    s = \" \"\n",
    "    for k in key.split(' '):\n",
    "        if \"neg\" in k or \"unspecific\" in k or \"nonspecific\" in k:\n",
    "            s = s + \"negative \"\n",
    "        elif \"neu\" in k or \"netural\" in k:\n",
    "            s = s + \"neural \"\n",
    "        elif \"unsure\" in k or \"not sure\" in k:\n",
    "            s = s + \"unsure \"\n",
    "        elif \"claim\" in k or \"Claim\" in k or \"Clzim\" in k:\n",
    "            s = s + \"claim \"\n",
    "        elif \"pos\" in k or \"+ve\" in k:\n",
    "            s = s + \"positive \"\n",
    "        elif \"na\" in k or \"N/A\" in k or \"n/a\" in k:\n",
    "            s = s + \"unsure \"\n",
    "    s = s.strip()\n",
    "    fivecases[s] = fivecases.get(s, 0) + 1"
   ]
  },
  {
   "cell_type": "code",
   "execution_count": 12,
   "metadata": {},
   "outputs": [
    {
     "data": {
      "text/plain": [
       "{'positive': 9,\n",
       " 'positive unsure unsure': 1,\n",
       " 'positive claim': 2,\n",
       " 'positive claim positive': 2,\n",
       " '': 6,\n",
       " 'claim': 1,\n",
       " 'claim positive': 8,\n",
       " 'claim positive claim negative': 1,\n",
       " 'claim positive claim negative claim positive': 1,\n",
       " 'claim positive unsure': 2,\n",
       " 'claim positive negative positive': 1,\n",
       " 'claim positive positive': 1,\n",
       " 'claim positive negative': 1,\n",
       " 'unsure': 9,\n",
       " 'unsure claim positive': 3,\n",
       " 'unsure negative': 1,\n",
       " 'unsure positive': 3,\n",
       " 'negative': 5,\n",
       " 'negative unsure': 1,\n",
       " 'negative neural': 1,\n",
       " 'neural': 3,\n",
       " 'neural claim positive': 1,\n",
       " 'negative positive': 1,\n",
       " 'positive unsure': 3,\n",
       " 'positive neural': 2,\n",
       " 'positive negative': 4,\n",
       " 'unsure positive negative': 1,\n",
       " 'unsure unsure unsure': 1}"
      ]
     },
     "execution_count": 12,
     "metadata": {},
     "output_type": "execute_result"
    }
   ],
   "source": [
    "fivecases"
   ]
  },
  {
   "cell_type": "code",
   "execution_count": 13,
   "metadata": {},
   "outputs": [],
   "source": [
    "LABELS_COLUMN = [\"positive\", \"negative\", \"neutral\", \"unsure\", \"claim\"]"
   ]
  },
  {
   "cell_type": "code",
   "execution_count": 14,
   "metadata": {},
   "outputs": [],
   "source": [
    "def labels_to_onehot(labels):\n",
    "    onehot = [0, 0, 0, 0, 0]\n",
    "    \n",
    "    for k in labels.split(' '):\n",
    "        if \"neg\" in k or \"unspecific\" in k or \"nonspecific\" in k:\n",
    "            onehot[1] = 1\n",
    "        elif \"neu\" in k or \"netural\" in k:\n",
    "            onehot[2] = 1\n",
    "        elif \"unsure\" in k or \"not sure\" in k:\n",
    "            onehot[3] = 1\n",
    "        elif \"claim\" in k:\n",
    "            onehot[4] = 1\n",
    "        elif \"pos\" in k or \"+ve\" in k:\n",
    "            onehot[0] = 1\n",
    "        elif \"na\" in k or \"N/A\" in k or \"n/a\" in k:\n",
    "            onehot[3] = 1\n",
    "    if len(set(onehot)) == 0:\n",
    "        onehot[3] = 1\n",
    "    return onehot"
   ]
  },
  {
   "cell_type": "code",
   "execution_count": 28,
   "metadata": {},
   "outputs": [],
   "source": [
    "def onehot_to_labels(onehot):\n",
    "    labels = \",\"\n",
    "    \n",
    "    for o in range(len(onehot)):\n",
    "        if onehot[o] == 1:\n",
    "            labels += LABELS_COLUMN[o] + \",\"\n",
    "            \n",
    "    return labels.strip(',')"
   ]
  },
  {
   "cell_type": "markdown",
   "metadata": {},
   "source": [
    "### Reconstruct Dataset"
   ]
  },
  {
   "cell_type": "code",
   "execution_count": 29,
   "metadata": {},
   "outputs": [],
   "source": [
    "import csv"
   ]
  },
  {
   "cell_type": "code",
   "execution_count": 30,
   "metadata": {},
   "outputs": [],
   "source": [
    "with open('dataset.csv', mode='w') as csv_file:\n",
    "    fieldnames = ['snippet', 'positive', 'negative', 'neutral', 'unsure', 'claim']\n",
    "    writer = csv.DictWriter(csv_file, fieldnames=fieldnames)\n",
    "\n",
    "    writer.writeheader()\n",
    "    for index, row in dataset.iterrows():\n",
    "        label = row['Specificity?']\n",
    "        if pd.isna(row['Specificity?']) == False:\n",
    "            onehot = labels_to_onehot(label)\n",
    "            writer.writerow({\n",
    "                'snippet': row['SNIPPET'], \n",
    "                'positive': onehot[0], \n",
    "                'negative': onehot[1], \n",
    "                'neutral': onehot[2],\n",
    "                'unsure': onehot[3],\n",
    "                'claim': onehot[4]\n",
    "            })"
   ]
  },
  {
   "cell_type": "code",
   "execution_count": 31,
   "metadata": {},
   "outputs": [],
   "source": [
    "with open('for_distribution.csv', mode='w') as file:\n",
    "    fieldnames = ['snippet', 'labels']\n",
    "    writer = csv.DictWriter(file, fieldnames=fieldnames)\n",
    "\n",
    "    writer.writeheader()\n",
    "    for index, row in dataset.iterrows():\n",
    "        label = row['Specificity?']\n",
    "        if pd.isna(row['Specificity?']) == False:\n",
    "            onehot = labels_to_onehot(label)\n",
    "            labels = onehot_to_labels(onehot)\n",
    "            writer.writerow({\n",
    "                'snippet': row['SNIPPET'], \n",
    "                'labels': labels\n",
    "            })"
   ]
  },
  {
   "cell_type": "markdown",
   "metadata": {},
   "source": [
    "### Dataset distribution"
   ]
  },
  {
   "cell_type": "code",
   "execution_count": 32,
   "metadata": {},
   "outputs": [
    {
     "data": {
      "text/html": [
       "<div>\n",
       "<style scoped>\n",
       "    .dataframe tbody tr th:only-of-type {\n",
       "        vertical-align: middle;\n",
       "    }\n",
       "\n",
       "    .dataframe tbody tr th {\n",
       "        vertical-align: top;\n",
       "    }\n",
       "\n",
       "    .dataframe thead th {\n",
       "        text-align: right;\n",
       "    }\n",
       "</style>\n",
       "<table border=\"1\" class=\"dataframe\">\n",
       "  <thead>\n",
       "    <tr style=\"text-align: right;\">\n",
       "      <th></th>\n",
       "      <th>snippet</th>\n",
       "      <th>labels</th>\n",
       "    </tr>\n",
       "  </thead>\n",
       "  <tbody>\n",
       "    <tr>\n",
       "      <td>0</td>\n",
       "      <td>Input lysates and pulldown eluates were analyz...</td>\n",
       "      <td>positive</td>\n",
       "    </tr>\n",
       "    <tr>\n",
       "      <td>1</td>\n",
       "      <td>ATAD-3 is an evolutionarily conserved AAA-fami...</td>\n",
       "      <td>positive,unsure</td>\n",
       "    </tr>\n",
       "    <tr>\n",
       "      <td>2</td>\n",
       "      <td>For ookinete conversion assays, blood was take...</td>\n",
       "      <td>positive,claim</td>\n",
       "    </tr>\n",
       "    <tr>\n",
       "      <td>3</td>\n",
       "      <td>Rat monoclonal antibody against hKIAA1199 was ...</td>\n",
       "      <td>positive,claim</td>\n",
       "    </tr>\n",
       "    <tr>\n",
       "      <td>4</td>\n",
       "      <td>Cell homogenate supernatants were separated by...</td>\n",
       "      <td>positive,claim</td>\n",
       "    </tr>\n",
       "  </tbody>\n",
       "</table>\n",
       "</div>"
      ],
      "text/plain": [
       "                                             snippet           labels\n",
       "0  Input lysates and pulldown eluates were analyz...         positive\n",
       "1  ATAD-3 is an evolutionarily conserved AAA-fami...  positive,unsure\n",
       "2  For ookinete conversion assays, blood was take...   positive,claim\n",
       "3  Rat monoclonal antibody against hKIAA1199 was ...   positive,claim\n",
       "4  Cell homogenate supernatants were separated by...   positive,claim"
      ]
     },
     "execution_count": 32,
     "metadata": {},
     "output_type": "execute_result"
    }
   ],
   "source": [
    "df = pd.read_csv('for_distribution.csv')\n",
    "df.head()"
   ]
  },
  {
   "cell_type": "code",
   "execution_count": 35,
   "metadata": {},
   "outputs": [
    {
     "data": {
      "text/plain": [
       "positive                    1585\n",
       "positive,claim               283\n",
       "neutral                      241\n",
       "negative                     143\n",
       "unsure                       112\n",
       "claim                         19\n",
       "positive,unsure               13\n",
       "positive,negative             12\n",
       "positive,unsure,claim          5\n",
       "negative,unsure                3\n",
       "positive,negative,claim        3\n",
       "positive,neutral               2\n",
       "positive,neutral,claim         1\n",
       "positive,negative,unsure       1\n",
       "negative,neutral               1\n",
       "Name: labels, dtype: int64"
      ]
     },
     "execution_count": 35,
     "metadata": {},
     "output_type": "execute_result"
    }
   ],
   "source": [
    "target_count = df.labels.value_counts()\n",
    "target_count"
   ]
  },
  {
   "cell_type": "code",
   "execution_count": 36,
   "metadata": {},
   "outputs": [
    {
     "data": {
      "image/png": "[encoded data removed]",
      "text/plain": [
       "<Figure size 432x288 with 1 Axes>"
      ]
     },
     "metadata": {
      "needs_background": "light"
     },
     "output_type": "display_data"
    }
   ],
   "source": [
    "target_count.plot(kind='bar', title='Count (target)');"
   ]
  },
  {
   "cell_type": "markdown",
   "metadata": {},
   "source": [
    "### Test Set"
   ]
  },
  {
   "cell_type": "code",
   "execution_count": 39,
   "metadata": {},
   "outputs": [],
   "source": [
    "with open('testset.csv', mode='w') as csv_file:\n",
    "    fieldnames = ['id', 'snippet']\n",
    "    writer = csv.DictWriter(csv_file, fieldnames=fieldnames)\n",
    "\n",
    "    writer.writeheader()\n",
    "    for index, row in dataset.iterrows():\n",
    "        label = row['Specificity?']\n",
    "        if pd.isna(row['Specificity?']) == True:\n",
    "            writer.writerow({\n",
    "                'id': row['Row ID'],\n",
    "                'snippet': row['SNIPPET'], \n",
    "            })"
   ]
  },
  {
   "cell_type": "code",
   "execution_count": 40,
   "metadata": {},
   "outputs": [
    {
     "data": {
      "text/html": [
       "<div>\n",
       "<style scoped>\n",
       "    .dataframe tbody tr th:only-of-type {\n",
       "        vertical-align: middle;\n",
       "    }\n",
       "\n",
       "    .dataframe tbody tr th {\n",
       "        vertical-align: top;\n",
       "    }\n",
       "\n",
       "    .dataframe thead th {\n",
       "        text-align: right;\n",
       "    }\n",
       "</style>\n",
       "<table border=\"1\" class=\"dataframe\">\n",
       "  <thead>\n",
       "    <tr style=\"text-align: right;\">\n",
       "      <th></th>\n",
       "      <th>id</th>\n",
       "      <th>snippet</th>\n",
       "    </tr>\n",
       "  </thead>\n",
       "  <tbody>\n",
       "    <tr>\n",
       "      <td>0</td>\n",
       "      <td>594</td>\n",
       "      <td>Alpha-sma is also expressed on MM, but areas o...</td>\n",
       "    </tr>\n",
       "    <tr>\n",
       "      <td>1</td>\n",
       "      <td>656</td>\n",
       "      <td>Successful universal IAV vaccines not only ind...</td>\n",
       "    </tr>\n",
       "    <tr>\n",
       "      <td>2</td>\n",
       "      <td>657</td>\n",
       "      <td>These cells, via perforin dependent cytotoxici...</td>\n",
       "    </tr>\n",
       "    <tr>\n",
       "      <td>3</td>\n",
       "      <td>701</td>\n",
       "      <td>Normal tonsil and bone marrow was used as posi...</td>\n",
       "    </tr>\n",
       "    <tr>\n",
       "      <td>4</td>\n",
       "      <td>729</td>\n",
       "      <td>VectaShield mounting medium was applied and co...</td>\n",
       "    </tr>\n",
       "  </tbody>\n",
       "</table>\n",
       "</div>"
      ],
      "text/plain": [
       "    id                                            snippet\n",
       "0  594  Alpha-sma is also expressed on MM, but areas o...\n",
       "1  656  Successful universal IAV vaccines not only ind...\n",
       "2  657  These cells, via perforin dependent cytotoxici...\n",
       "3  701  Normal tonsil and bone marrow was used as posi...\n",
       "4  729  VectaShield mounting medium was applied and co..."
      ]
     },
     "execution_count": 40,
     "metadata": {},
     "output_type": "execute_result"
    }
   ],
   "source": [
    "df = pd.read_csv('testset.csv')\n",
    "df.head()"
   ]
  }
 ],
 "metadata": {
  "kernelspec": {
   "display_name": "Python 3",
   "language": "python",
   "name": "python3"
  },
  "language_info": {
   "codemirror_mode": {
    "name": "ipython",
    "version": 3
   },
   "file_extension": ".py",
   "mimetype": "text/x-python",
   "name": "python",
   "nbconvert_exporter": "python",
   "pygments_lexer": "ipython3",
   "version": "3.7.4"
  }
 },
 "nbformat": 4,
 "nbformat_minor": 2
}
