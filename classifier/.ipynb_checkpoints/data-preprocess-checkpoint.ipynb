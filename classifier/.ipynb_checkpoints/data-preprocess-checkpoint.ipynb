{
 "cells": [
  {
   "cell_type": "markdown",
   "metadata": {},
   "source": [
    "# Multi label Text Classification Snippet Specificity using BERT"
   ]
  },
  {
   "cell_type": "markdown",
   "metadata": {},
   "source": [
    "## Data Processing"
   ]
  },
  {
   "cell_type": "code",
   "execution_count": 2,
   "metadata": {},
   "outputs": [],
   "source": [
    "import pandas as pd"
   ]
  },
  {
   "cell_type": "code",
   "execution_count": 138,
   "metadata": {},
   "outputs": [],
   "source": [
    "dataset = pd.read_excel('3192antibody.xlsx')"
   ]
  },
  {
   "cell_type": "code",
   "execution_count": 139,
   "metadata": {},
   "outputs": [
    {
     "data": {
      "text/html": [
       "<div>\n",
       "<style scoped>\n",
       "    .dataframe tbody tr th:only-of-type {\n",
       "        vertical-align: middle;\n",
       "    }\n",
       "\n",
       "    .dataframe tbody tr th {\n",
       "        vertical-align: top;\n",
       "    }\n",
       "\n",
       "    .dataframe thead th {\n",
       "        text-align: right;\n",
       "    }\n",
       "</style>\n",
       "<table border=\"1\" class=\"dataframe\">\n",
       "  <thead>\n",
       "    <tr style=\"text-align: right;\">\n",
       "      <th></th>\n",
       "      <th>Row ID</th>\n",
       "      <th>Antibody?</th>\n",
       "      <th>Specificity?</th>\n",
       "      <th>PMID</th>\n",
       "      <th>PMCID</th>\n",
       "      <th>SNIPPET</th>\n",
       "    </tr>\n",
       "  </thead>\n",
       "  <tbody>\n",
       "    <tr>\n",
       "      <td>0</td>\n",
       "      <td>10</td>\n",
       "      <td>Diatheva, Dahl</td>\n",
       "      <td>negative</td>\n",
       "      <td>23390418</td>\n",
       "      <td>PMC3565217</td>\n",
       "      <td>The Diatheva and Dahl antibodies were two of t...</td>\n",
       "    </tr>\n",
       "    <tr>\n",
       "      <td>1</td>\n",
       "      <td>11</td>\n",
       "      <td>Diatheva, Dahl</td>\n",
       "      <td>negative</td>\n",
       "      <td>23390418</td>\n",
       "      <td>PMC3565217</td>\n",
       "      <td>For example, in the study of Panx1 knockout mi...</td>\n",
       "    </tr>\n",
       "    <tr>\n",
       "      <td>2</td>\n",
       "      <td>12</td>\n",
       "      <td>Diatheva, Dahl</td>\n",
       "      <td>negative</td>\n",
       "      <td>23390418</td>\n",
       "      <td>PMC3565217</td>\n",
       "      <td>(2011) where in situ hybridization images of P...</td>\n",
       "    </tr>\n",
       "    <tr>\n",
       "      <td>3</td>\n",
       "      <td>13</td>\n",
       "      <td>no</td>\n",
       "      <td>neutral</td>\n",
       "      <td>23390418</td>\n",
       "      <td>PMC3565217</td>\n",
       "      <td>Because Western blots are frequently treated a...</td>\n",
       "    </tr>\n",
       "    <tr>\n",
       "      <td>4</td>\n",
       "      <td>14</td>\n",
       "      <td>no</td>\n",
       "      <td>neutral</td>\n",
       "      <td>23390418</td>\n",
       "      <td>PMC3565217</td>\n",
       "      <td>Because Western blots are frequently treated a...</td>\n",
       "    </tr>\n",
       "  </tbody>\n",
       "</table>\n",
       "</div>"
      ],
      "text/plain": [
       "   Row ID       Antibody? Specificity?      PMID       PMCID  \\\n",
       "0      10  Diatheva, Dahl     negative  23390418  PMC3565217   \n",
       "1      11  Diatheva, Dahl     negative  23390418  PMC3565217   \n",
       "2      12  Diatheva, Dahl     negative  23390418  PMC3565217   \n",
       "3      13              no      neutral  23390418  PMC3565217   \n",
       "4      14              no      neutral  23390418  PMC3565217   \n",
       "\n",
       "                                             SNIPPET  \n",
       "0  The Diatheva and Dahl antibodies were two of t...  \n",
       "1  For example, in the study of Panx1 knockout mi...  \n",
       "2  (2011) where in situ hybridization images of P...  \n",
       "3  Because Western blots are frequently treated a...  \n",
       "4  Because Western blots are frequently treated a...  "
      ]
     },
     "execution_count": 139,
     "metadata": {},
     "output_type": "execute_result"
    }
   ],
   "source": [
    "dataset.head()"
   ]
  },
  {
   "cell_type": "markdown",
   "metadata": {},
   "source": [
    "### Remove redundant information"
   ]
  },
  {
   "cell_type": "code",
   "execution_count": 140,
   "metadata": {},
   "outputs": [],
   "source": [
    "dataset.drop('Row ID',axis=1,inplace=True)\n",
    "dataset.drop('Antibody?',axis=1,inplace=True)\n",
    "dataset.drop('PMID',axis=1, inplace=True)\n",
    "dataset.drop('PMCID',axis=1,inplace=True)"
   ]
  },
  {
   "cell_type": "markdown",
   "metadata": {},
   "source": [
    "### How many specificity class right now?"
   ]
  },
  {
   "cell_type": "code",
   "execution_count": 141,
   "metadata": {},
   "outputs": [],
   "source": [
    "import matplotlib.pyplot as plt"
   ]
  },
  {
   "cell_type": "code",
   "execution_count": 142,
   "metadata": {},
   "outputs": [],
   "source": [
    "specificity_cases = dict()\n",
    "count_record = 0"
   ]
  },
  {
   "cell_type": "code",
   "execution_count": 143,
   "metadata": {},
   "outputs": [],
   "source": [
    "for value in dataset['Specificity?']:\n",
    "    if pd.isna(value) == False:\n",
    "        v = value.strip('\\n')\n",
    "        v = v.strip()\n",
    "        list_values.append(v)\n",
    "        specificity_cases[v] = specificity_classes.get(v, 0) + 1\n",
    "        count_record += 1"
   ]
  },
  {
   "cell_type": "code",
   "execution_count": 144,
   "metadata": {},
   "outputs": [
    {
     "data": {
      "text/plain": [
       "{'negative': 64,\n",
       " 'neutral': 148,\n",
       " 'unsure': 46,\n",
       " 'positive': 673,\n",
       " 'na': 13,\n",
       " '(positive) claim': 4,\n",
       " 'claim': 20,\n",
       " 'unsure (positive and negative)': 2,\n",
       " 'positive and negative': 5,\n",
       " 'claim (positive)': 3,\n",
       " 'positive, claim': 41,\n",
       " 'postive': 4,\n",
       " 'positive, neutral': 2,\n",
       " 'claim, positive': 2,\n",
       " 'netural ??': 2,\n",
       " '(positive) \"snippet isnt enough to know what': 2,\n",
       " 'antibody pennetration method': 2,\n",
       " 'unsure (snippet not enough need more)': 2,\n",
       " 'not sure': 11,\n",
       " 'nonspecific (2)  positive': 3,\n",
       " 'nonspecific': 6,\n",
       " 'N/A': 4,\n",
       " 'positive (2) neutral': 2,\n",
       " 'Rabbit Anti-Mouse IgG- positive': 2,\n",
       " 'unspecific': 2,\n",
       " 'negative, neutral': 2,\n",
       " 'nonspecfic': 2,\n",
       " 'positive (2) N/A': 3,\n",
       " 'postiive': 3,\n",
       " 'positive?': 3,\n",
       " 'Claim +ve': 4,\n",
       " 'Positive': 2,\n",
       " 'claim positive': 49,\n",
       " 'neutral(2) claim positive': 2,\n",
       " 'positve': 3,\n",
       " 'N/A, positive': 4,\n",
       " 'unsure, positive': 2,\n",
       " 'N/A, negative': 3,\n",
       " 'positive,': 2,\n",
       " 'specific not sensitive': 3,\n",
       " 'positive,claim positive(2)': 3,\n",
       " 'netural': 2}"
      ]
     },
     "execution_count": 144,
     "metadata": {},
     "output_type": "execute_result"
    }
   ],
   "source": [
    "specificity_cases"
   ]
  },
  {
   "cell_type": "code",
   "execution_count": 145,
   "metadata": {},
   "outputs": [
    {
     "data": {
      "text/plain": [
       "1115"
      ]
     },
     "execution_count": 145,
     "metadata": {},
     "output_type": "execute_result"
    }
   ],
   "source": [
    "count_record"
   ]
  },
  {
   "cell_type": "markdown",
   "metadata": {},
   "source": [
    "Try redunce these cases into 5 labels classes"
   ]
  },
  {
   "cell_type": "code",
   "execution_count": 146,
   "metadata": {},
   "outputs": [],
   "source": [
    "fivecases = dict()"
   ]
  },
  {
   "cell_type": "code",
   "execution_count": 147,
   "metadata": {},
   "outputs": [],
   "source": [
    "for key in specificity_cases:\n",
    "    s = \" \"\n",
    "    for k in key.split(' '):\n",
    "        if \"neg\" in k or \"unspecific\" in k or \"nonspecific\" in k:\n",
    "            s = s + \"negative \"\n",
    "        elif \"neu\" in k or \"netural\" in k:\n",
    "            s = s + \"neural \"\n",
    "        elif \"unsure\" in k or \"not sure\" in k:\n",
    "            s = s + \"unsure \"\n",
    "        elif \"claim\" in k:\n",
    "            s = s + \"claim \"\n",
    "        elif \"pos\" in k or \"+ve\" in k:\n",
    "            s = s + \"positive \"\n",
    "        elif \"na\" in k or \"N/A\" in k or \"n/a\" in k:\n",
    "            s = s + \"unsure \"\n",
    "    s = s.strip()\n",
    "    fivecases[s] = fivecases.get(s, 0) + 1"
   ]
  },
  {
   "cell_type": "code",
   "execution_count": 148,
   "metadata": {},
   "outputs": [
    {
     "data": {
      "text/plain": [
       "{'negative': 3,\n",
       " 'neural': 3,\n",
       " 'unsure': 4,\n",
       " 'positive': 9,\n",
       " 'positive claim': 2,\n",
       " 'claim': 1,\n",
       " 'unsure positive negative': 1,\n",
       " 'positive negative': 1,\n",
       " 'claim positive': 4,\n",
       " 'positive neural': 2,\n",
       " '': 5,\n",
       " 'negative positive': 1,\n",
       " 'negative neural': 1,\n",
       " 'positive unsure': 1,\n",
       " 'neural claim positive': 1,\n",
       " 'unsure positive': 2,\n",
       " 'unsure negative': 1}"
      ]
     },
     "execution_count": 148,
     "metadata": {},
     "output_type": "execute_result"
    }
   ],
   "source": [
    "fivecases"
   ]
  },
  {
   "cell_type": "code",
   "execution_count": 149,
   "metadata": {},
   "outputs": [],
   "source": [
    "LABELS_COLUMN = [\"positive\", \"negative\", \"neutral\", \"unsure\", \"claim\"]"
   ]
  },
  {
   "cell_type": "code",
   "execution_count": 150,
   "metadata": {},
   "outputs": [],
   "source": [
    "def labels_to_onehot(labels):\n",
    "    onehot = [0, 0, 0, 0, 0]\n",
    "    \n",
    "    for k in labels.split(' '):\n",
    "        if \"neg\" in k or \"unspecific\" in k or \"nonspecific\" in k:\n",
    "            onehot[1] = 1\n",
    "        elif \"neu\" in k or \"netural\" in k:\n",
    "            onehot[2] = 1\n",
    "        elif \"unsure\" in k or \"not sure\" in k:\n",
    "            onehot[3] = 1\n",
    "        elif \"claim\" in k:\n",
    "            onehot[4] = 1\n",
    "        elif \"pos\" in k or \"+ve\" in k:\n",
    "            onehot[0] = 1\n",
    "        elif \"na\" in k or \"N/A\" in k or \"n/a\" in k:\n",
    "            onehot[3] = 1\n",
    "    if len(set(onehot)) == 0:\n",
    "        onehot[3] = 1\n",
    "    return onehot"
   ]
  },
  {
   "cell_type": "markdown",
   "metadata": {},
   "source": [
    "### Reconstruct Dataset"
   ]
  },
  {
   "cell_type": "code",
   "execution_count": 151,
   "metadata": {},
   "outputs": [],
   "source": [
    "import csv"
   ]
  },
  {
   "cell_type": "code",
   "execution_count": 152,
   "metadata": {},
   "outputs": [],
   "source": [
    "with open('dataset.csv', mode='w') as csv_file:\n",
    "    fieldnames = ['snippet', 'positive', 'negative', 'neutral', 'unsure', 'claim']\n",
    "    writer = csv.DictWriter(csv_file, fieldnames=fieldnames)\n",
    "\n",
    "    writer.writeheader()\n",
    "    for index, row in dataset.iterrows():\n",
    "        label = row['Specificity?']\n",
    "        if pd.isna(row['Specificity?']) == False:\n",
    "            onehot = labels_to_onehot(label)\n",
    "            writer.writerow({\n",
    "                'snippet': row['SNIPPET'], \n",
    "                'positive': onehot[0], \n",
    "                'negative': onehot[1], \n",
    "                'neutral': onehot[2],\n",
    "                'unsure': onehot[3],\n",
    "                'claim': onehot[4]\n",
    "            })"
   ]
  },
  {
   "cell_type": "markdown",
   "metadata": {},
   "source": [
    "### Dataset (Partition)"
   ]
  },
  {
   "cell_type": "code",
   "execution_count": 3,
   "metadata": {},
   "outputs": [
    {
     "data": {
      "text/html": [
       "<div>\n",
       "<style scoped>\n",
       "    .dataframe tbody tr th:only-of-type {\n",
       "        vertical-align: middle;\n",
       "    }\n",
       "\n",
       "    .dataframe tbody tr th {\n",
       "        vertical-align: top;\n",
       "    }\n",
       "\n",
       "    .dataframe thead th {\n",
       "        text-align: right;\n",
       "    }\n",
       "</style>\n",
       "<table border=\"1\" class=\"dataframe\">\n",
       "  <thead>\n",
       "    <tr style=\"text-align: right;\">\n",
       "      <th></th>\n",
       "      <th>snippet</th>\n",
       "      <th>positive</th>\n",
       "      <th>negative</th>\n",
       "      <th>neutral</th>\n",
       "      <th>unsure</th>\n",
       "      <th>claim</th>\n",
       "    </tr>\n",
       "  </thead>\n",
       "  <tbody>\n",
       "    <tr>\n",
       "      <td>0</td>\n",
       "      <td>The Diatheva and Dahl antibodies were two of t...</td>\n",
       "      <td>0</td>\n",
       "      <td>1</td>\n",
       "      <td>0</td>\n",
       "      <td>0</td>\n",
       "      <td>0</td>\n",
       "    </tr>\n",
       "    <tr>\n",
       "      <td>1</td>\n",
       "      <td>For example, in the study of Panx1 knockout mi...</td>\n",
       "      <td>0</td>\n",
       "      <td>1</td>\n",
       "      <td>0</td>\n",
       "      <td>0</td>\n",
       "      <td>0</td>\n",
       "    </tr>\n",
       "    <tr>\n",
       "      <td>2</td>\n",
       "      <td>(2011) where in situ hybridization images of P...</td>\n",
       "      <td>0</td>\n",
       "      <td>1</td>\n",
       "      <td>0</td>\n",
       "      <td>0</td>\n",
       "      <td>0</td>\n",
       "    </tr>\n",
       "    <tr>\n",
       "      <td>3</td>\n",
       "      <td>Because Western blots are frequently treated a...</td>\n",
       "      <td>0</td>\n",
       "      <td>0</td>\n",
       "      <td>1</td>\n",
       "      <td>0</td>\n",
       "      <td>0</td>\n",
       "    </tr>\n",
       "    <tr>\n",
       "      <td>4</td>\n",
       "      <td>Because Western blots are frequently treated a...</td>\n",
       "      <td>0</td>\n",
       "      <td>0</td>\n",
       "      <td>1</td>\n",
       "      <td>0</td>\n",
       "      <td>0</td>\n",
       "    </tr>\n",
       "  </tbody>\n",
       "</table>\n",
       "</div>"
      ],
      "text/plain": [
       "                                             snippet  positive  negative  \\\n",
       "0  The Diatheva and Dahl antibodies were two of t...         0         1   \n",
       "1  For example, in the study of Panx1 knockout mi...         0         1   \n",
       "2  (2011) where in situ hybridization images of P...         0         1   \n",
       "3  Because Western blots are frequently treated a...         0         0   \n",
       "4  Because Western blots are frequently treated a...         0         0   \n",
       "\n",
       "   neutral  unsure  claim  \n",
       "0        0       0      0  \n",
       "1        0       0      0  \n",
       "2        0       0      0  \n",
       "3        1       0      0  \n",
       "4        1       0      0  "
      ]
     },
     "execution_count": 3,
     "metadata": {},
     "output_type": "execute_result"
    }
   ],
   "source": [
    "dataset = pd.read_csv('dataset.csv')\n",
    "dataset.head()"
   ]
  },
  {
   "cell_type": "code",
   "execution_count": 4,
   "metadata": {},
   "outputs": [],
   "source": [
    "from sklearn.utils import shuffle\n",
    "from sklearn.model_selection import train_test_split\n",
    "trainset, validset = train_test_split(dataset, test_size=0.2, random_state=42)\n",
    "\n",
    "trainset.to_csv('./trainset.csv',index=False)\n",
    "validset.to_csv('./validset.csv',index=False)"
   ]
  },
  {
   "cell_type": "markdown",
   "metadata": {},
   "source": [
    "### Test Set"
   ]
  },
  {
   "cell_type": "code",
   "execution_count": null,
   "metadata": {},
   "outputs": [],
   "source": [
    "with open('dataset.csv', mode='w') as csv_file:\n",
    "    fieldnames = ['id', 'snippet']\n",
    "    writer = csv.DictWriter(csv_file, fieldnames=fieldnames)\n",
    "\n",
    "    writer.writeheader()\n",
    "    for index, row in dataset.iterrows():\n",
    "        label = row['Specificity?']\n",
    "        if pd.isna(row['Specificity?']) == True:\n",
    "            label = 'na'\n",
    "        onehot = labels_to_onehot(label)\n",
    "        writer.writerow({\n",
    "            'snippet': row['SNIPPET'], \n",
    "        })"
   ]
  }
 ],
 "metadata": {
  "kernelspec": {
   "display_name": "Python 3",
   "language": "python",
   "name": "python3"
  },
  "language_info": {
   "codemirror_mode": {
    "name": "ipython",
    "version": 3
   },
   "file_extension": ".py",
   "mimetype": "text/x-python",
   "name": "python",
   "nbconvert_exporter": "python",
   "pygments_lexer": "ipython3",
   "version": "3.7.4"
  }
 },
 "nbformat": 4,
 "nbformat_minor": 2
}
