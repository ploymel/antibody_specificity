{
 "cells": [
  {
   "cell_type": "markdown",
   "metadata": {},
   "source": [
    "# Classify Snippet Specificity using BERT"
   ]
  },
  {
   "cell_type": "markdown",
   "metadata": {},
   "source": [
    "## About Our Data"
   ]
  },
  {
   "cell_type": "code",
   "execution_count": 1,
   "metadata": {},
   "outputs": [],
   "source": [
    "import pandas as pd"
   ]
  },
  {
   "cell_type": "code",
   "execution_count": 2,
   "metadata": {},
   "outputs": [],
   "source": [
    "df = pd.read_excel('3192antibody.xlsx')"
   ]
  },
  {
   "cell_type": "code",
   "execution_count": 3,
   "metadata": {},
   "outputs": [
    {
     "data": {
      "text/html": [
       "<div>\n",
       "<style scoped>\n",
       "    .dataframe tbody tr th:only-of-type {\n",
       "        vertical-align: middle;\n",
       "    }\n",
       "\n",
       "    .dataframe tbody tr th {\n",
       "        vertical-align: top;\n",
       "    }\n",
       "\n",
       "    .dataframe thead th {\n",
       "        text-align: right;\n",
       "    }\n",
       "</style>\n",
       "<table border=\"1\" class=\"dataframe\">\n",
       "  <thead>\n",
       "    <tr style=\"text-align: right;\">\n",
       "      <th></th>\n",
       "      <th>Row ID</th>\n",
       "      <th>Antibody?</th>\n",
       "      <th>Specificity?</th>\n",
       "      <th>PMID</th>\n",
       "      <th>PMCID</th>\n",
       "      <th>SNIPPET</th>\n",
       "    </tr>\n",
       "  </thead>\n",
       "  <tbody>\n",
       "    <tr>\n",
       "      <td>0</td>\n",
       "      <td>10</td>\n",
       "      <td>Diatheva, Dahl</td>\n",
       "      <td>negative</td>\n",
       "      <td>23390418</td>\n",
       "      <td>PMC3565217</td>\n",
       "      <td>The Diatheva and Dahl antibodies were two of t...</td>\n",
       "    </tr>\n",
       "    <tr>\n",
       "      <td>1</td>\n",
       "      <td>11</td>\n",
       "      <td>Diatheva, Dahl</td>\n",
       "      <td>negative</td>\n",
       "      <td>23390418</td>\n",
       "      <td>PMC3565217</td>\n",
       "      <td>For example, in the study of Panx1 knockout mi...</td>\n",
       "    </tr>\n",
       "    <tr>\n",
       "      <td>2</td>\n",
       "      <td>12</td>\n",
       "      <td>Diatheva, Dahl</td>\n",
       "      <td>negative</td>\n",
       "      <td>23390418</td>\n",
       "      <td>PMC3565217</td>\n",
       "      <td>(2011) where in situ hybridization images of P...</td>\n",
       "    </tr>\n",
       "    <tr>\n",
       "      <td>3</td>\n",
       "      <td>13</td>\n",
       "      <td>no</td>\n",
       "      <td>neutral</td>\n",
       "      <td>23390418</td>\n",
       "      <td>PMC3565217</td>\n",
       "      <td>Because Western blots are frequently treated a...</td>\n",
       "    </tr>\n",
       "    <tr>\n",
       "      <td>4</td>\n",
       "      <td>14</td>\n",
       "      <td>no</td>\n",
       "      <td>neutral</td>\n",
       "      <td>23390418</td>\n",
       "      <td>PMC3565217</td>\n",
       "      <td>Because Western blots are frequently treated a...</td>\n",
       "    </tr>\n",
       "    <tr>\n",
       "      <td>...</td>\n",
       "      <td>...</td>\n",
       "      <td>...</td>\n",
       "      <td>...</td>\n",
       "      <td>...</td>\n",
       "      <td>...</td>\n",
       "      <td>...</td>\n",
       "    </tr>\n",
       "    <tr>\n",
       "      <td>3187</td>\n",
       "      <td>22294</td>\n",
       "      <td>NaN</td>\n",
       "      <td>NaN</td>\n",
       "      <td>28781053</td>\n",
       "      <td>PMC6399476</td>\n",
       "      <td>We first determined the subcellular distributi...</td>\n",
       "    </tr>\n",
       "    <tr>\n",
       "      <td>3188</td>\n",
       "      <td>22301</td>\n",
       "      <td>NaN</td>\n",
       "      <td>NaN</td>\n",
       "      <td>30840898</td>\n",
       "      <td>PMC6410498</td>\n",
       "      <td>Next, the lysates were centrifuged (1,000x g, ...</td>\n",
       "    </tr>\n",
       "    <tr>\n",
       "      <td>3189</td>\n",
       "      <td>22353</td>\n",
       "      <td>the antibody</td>\n",
       "      <td>neutral</td>\n",
       "      <td>30638865</td>\n",
       "      <td>PMC6413675</td>\n",
       "      <td>After antigen retrieval was performed, the end...</td>\n",
       "    </tr>\n",
       "    <tr>\n",
       "      <td>3190</td>\n",
       "      <td>22357</td>\n",
       "      <td>n</td>\n",
       "      <td>NaN</td>\n",
       "      <td>30638865</td>\n",
       "      <td>PMC6413675</td>\n",
       "      <td>Crosslinked protein&amp;#8211;DNA complexes were i...</td>\n",
       "    </tr>\n",
       "    <tr>\n",
       "      <td>3191</td>\n",
       "      <td>22358</td>\n",
       "      <td>n</td>\n",
       "      <td>NaN</td>\n",
       "      <td>30638865</td>\n",
       "      <td>PMC6413675</td>\n",
       "      <td>Crosslinked protein&amp;#8211;DNA complexes were i...</td>\n",
       "    </tr>\n",
       "  </tbody>\n",
       "</table>\n",
       "<p>3192 rows × 6 columns</p>\n",
       "</div>"
      ],
      "text/plain": [
       "      Row ID       Antibody? Specificity?      PMID       PMCID  \\\n",
       "0         10  Diatheva, Dahl     negative  23390418  PMC3565217   \n",
       "1         11  Diatheva, Dahl     negative  23390418  PMC3565217   \n",
       "2         12  Diatheva, Dahl     negative  23390418  PMC3565217   \n",
       "3         13              no      neutral  23390418  PMC3565217   \n",
       "4         14              no      neutral  23390418  PMC3565217   \n",
       "...      ...             ...          ...       ...         ...   \n",
       "3187   22294             NaN          NaN  28781053  PMC6399476   \n",
       "3188   22301             NaN          NaN  30840898  PMC6410498   \n",
       "3189   22353    the antibody      neutral  30638865  PMC6413675   \n",
       "3190   22357               n          NaN  30638865  PMC6413675   \n",
       "3191   22358               n          NaN  30638865  PMC6413675   \n",
       "\n",
       "                                                SNIPPET  \n",
       "0     The Diatheva and Dahl antibodies were two of t...  \n",
       "1     For example, in the study of Panx1 knockout mi...  \n",
       "2     (2011) where in situ hybridization images of P...  \n",
       "3     Because Western blots are frequently treated a...  \n",
       "4     Because Western blots are frequently treated a...  \n",
       "...                                                 ...  \n",
       "3187  We first determined the subcellular distributi...  \n",
       "3188  Next, the lysates were centrifuged (1,000x g, ...  \n",
       "3189  After antigen retrieval was performed, the end...  \n",
       "3190  Crosslinked protein&#8211;DNA complexes were i...  \n",
       "3191  Crosslinked protein&#8211;DNA complexes were i...  \n",
       "\n",
       "[3192 rows x 6 columns]"
      ]
     },
     "execution_count": 3,
     "metadata": {},
     "output_type": "execute_result"
    }
   ],
   "source": [
    "df"
   ]
  },
  {
   "cell_type": "markdown",
   "metadata": {},
   "source": [
    "### How many specificity class right now?"
   ]
  },
  {
   "cell_type": "code",
   "execution_count": 4,
   "metadata": {},
   "outputs": [],
   "source": [
    "import matplotlib.pyplot as plt"
   ]
  },
  {
   "cell_type": "code",
   "execution_count": 5,
   "metadata": {},
   "outputs": [],
   "source": [
    "list_values = []"
   ]
  },
  {
   "cell_type": "code",
   "execution_count": 6,
   "metadata": {},
   "outputs": [],
   "source": [
    "for value in df['Specificity?']:\n",
    "    if pd.isna(value) == False:\n",
    "        v = value.strip('\\n')\n",
    "        v = v.strip()\n",
    "        list_values.append(v)"
   ]
  },
  {
   "cell_type": "code",
   "execution_count": 22,
   "metadata": {},
   "outputs": [],
   "source": [
    "specificity_classes = dict()\n",
    "count_record = 0"
   ]
  },
  {
   "cell_type": "code",
   "execution_count": 23,
   "metadata": {},
   "outputs": [],
   "source": [
    "for l in list_values:\n",
    "    specificity_classes[l] = specificity_classes.get(l, 0) + 1\n",
    "    count_record += 1"
   ]
  },
  {
   "cell_type": "code",
   "execution_count": 24,
   "metadata": {},
   "outputs": [
    {
     "data": {
      "text/plain": [
       "{'negative': 63,\n",
       " 'neutral': 147,\n",
       " 'unsure': 45,\n",
       " 'positive': 672,\n",
       " 'na': 12,\n",
       " '(positive) claim': 3,\n",
       " 'claim': 19,\n",
       " 'unsure (positive and negative)': 1,\n",
       " 'positive and negative': 4,\n",
       " 'claim (positive)': 2,\n",
       " 'positive, claim': 40,\n",
       " 'postive': 3,\n",
       " 'positive, neutral': 1,\n",
       " 'claim, positive': 1,\n",
       " 'netural ??': 1,\n",
       " '(positive) \"snippet isnt enough to know what': 1,\n",
       " 'antibody pennetration method': 1,\n",
       " 'unsure (snippet not enough need more)': 1,\n",
       " 'not sure': 10,\n",
       " 'nonspecific (2)  positive': 2,\n",
       " 'nonspecific': 5,\n",
       " 'N/A': 3,\n",
       " 'positive (2) neutral': 1,\n",
       " 'Rabbit Anti-Mouse IgG- positive': 1,\n",
       " 'unspecific': 1,\n",
       " 'negative, neutral': 1,\n",
       " 'nonspecfic': 1,\n",
       " 'positive (2) N/A': 2,\n",
       " 'postiive': 2,\n",
       " 'positive?': 2,\n",
       " 'Claim +ve': 3,\n",
       " 'Positive': 1,\n",
       " 'claim positive': 48,\n",
       " 'neutral(2) claim positive': 1,\n",
       " 'positve': 2,\n",
       " 'N/A, positive': 3,\n",
       " 'unsure, positive': 1,\n",
       " 'N/A, negative': 2,\n",
       " 'positive,': 1,\n",
       " 'specific not sensitive': 2,\n",
       " 'positive,claim positive(2)': 2,\n",
       " 'netural': 1}"
      ]
     },
     "execution_count": 24,
     "metadata": {},
     "output_type": "execute_result"
    }
   ],
   "source": [
    "specificity_classes"
   ]
  },
  {
   "cell_type": "code",
   "execution_count": 25,
   "metadata": {},
   "outputs": [
    {
     "data": {
      "text/plain": [
       "1115"
      ]
     },
     "execution_count": 25,
     "metadata": {},
     "output_type": "execute_result"
    }
   ],
   "source": [
    "count_record"
   ]
  },
  {
   "cell_type": "code",
   "execution_count": 11,
   "metadata": {},
   "outputs": [
    {
     "data": {
      "image/png": "[encoded data removed]",
      "text/plain": [
       "<Figure size 1440x720 with 1 Axes>"
      ]
     },
     "metadata": {
      "needs_background": "light"
     },
     "output_type": "display_data"
    }
   ],
   "source": [
    "plt.figure(figsize=(20,10))\n",
    "plt.bar(list(specificity_classes.keys()), specificity_classes.values())\n",
    "plt.show()"
   ]
  },
  {
   "cell_type": "code",
   "execution_count": null,
   "metadata": {},
   "outputs": [],
   "source": []
  }
 ],
 "metadata": {
  "kernelspec": {
   "display_name": "Python 3",
   "language": "python",
   "name": "python3"
  },
  "language_info": {
   "codemirror_mode": {
    "name": "ipython",
    "version": 3
   },
   "file_extension": ".py",
   "mimetype": "text/x-python",
   "name": "python",
   "nbconvert_exporter": "python",
   "pygments_lexer": "ipython3",
   "version": "3.7.4"
  }
 },
 "nbformat": 4,
 "nbformat_minor": 2
}
